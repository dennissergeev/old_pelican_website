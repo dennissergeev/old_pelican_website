{
 "cells": [
  {
   "cell_type": "code",
   "execution_count": 17,
   "metadata": {},
   "outputs": [],
   "source": [
    "import bs4\n",
    "import calendar\n",
    "import re\n",
    "import requests\n",
    "\n",
    "import numpy as np\n",
    "\n",
    "import xarray as xr\n",
    "\n",
    "from tqdm import tqdm_notebook as tqdm\n",
    "from tqdm import tqdm as TQDM"
   ]
  },
  {
   "cell_type": "code",
   "execution_count": 27,
   "metadata": {
    "collapsed": true
   },
   "outputs": [],
   "source": [
    "%matplotlib inline"
   ]
  },
  {
   "cell_type": "code",
   "execution_count": 2,
   "metadata": {
    "collapsed": true
   },
   "outputs": [],
   "source": [
    "PARSER = 'lxml-html'"
   ]
  },
  {
   "cell_type": "code",
   "execution_count": 3,
   "metadata": {
    "collapsed": true
   },
   "outputs": [],
   "source": [
    "start = 'X-Body-of-Message'\n",
    "end = 'X-Body-of-Message-End'"
   ]
  },
  {
   "cell_type": "code",
   "execution_count": 4,
   "metadata": {},
   "outputs": [],
   "source": [
    "yr = 2017\n",
    "mon = 8"
   ]
  },
  {
   "cell_type": "code",
   "execution_count": 5,
   "metadata": {},
   "outputs": [],
   "source": [
    "num = 34"
   ]
  },
  {
   "cell_type": "code",
   "execution_count": 6,
   "metadata": {
    "collapsed": true
   },
   "outputs": [],
   "source": [
    "MONTH_INDEX_URL_MASK = 'https://www.lists.rdg.ac.uk/archives/met-jobs/{yr}-{mon:02d}/date.html'"
   ]
  },
  {
   "cell_type": "code",
   "execution_count": 7,
   "metadata": {
    "collapsed": true
   },
   "outputs": [],
   "source": [
    "MSG_URL_MASK = 'https://www.lists.rdg.ac.uk/archives/met-jobs/{yr}-{mon:02d}/{msg_href}'\n",
    "# 'https://www.lists.rdg.ac.uk/archives/met-jobs/{yrmon:%Y-%m}/msg{num:05d}.html'"
   ]
  },
  {
   "cell_type": "code",
   "execution_count": 8,
   "metadata": {},
   "outputs": [],
   "source": [
    "def get_msg_urls(year, month):\n",
    "    msg_regex = 'msg([0-9]+)\\.html'\n",
    "    index_url = MONTH_INDEX_URL_MASK.format(yr=year, mon=month)\n",
    "    r = requests.get(index_url)\n",
    "    hrefs = []\n",
    "    if r.status_code == 200:\n",
    "        soup = bs4.BeautifulSoup(r.content, PARSER)\n",
    "        for i in soup.find_all('a', href=re.compile(msg_regex)):\n",
    "            hrefs += [i['href']]\n",
    "    return hrefs"
   ]
  },
  {
   "cell_type": "code",
   "execution_count": 9,
   "metadata": {
    "collapsed": true
   },
   "outputs": [],
   "source": [
    "def extract_text_between_comments(soup, comm1, comm2):\n",
    "    def _extract_text(node):\n",
    "        return ''.join(t.strip() for t in node(text=True,\n",
    "                                               recursive=False))\n",
    "    comm1_tag = soup.find_all(text=comm1)[0]\n",
    "    comm2_tag = soup.find_all(text=comm2)[0]\n",
    "    after_comm1 = [*filter(None, [_extract_text(i) for i in comm1_tag.find_all_next()])]\n",
    "    before_comm2 = [*filter(None, [_extract_text(i) for i in comm2_tag.find_all_previous()])]\n",
    "    # elements_between = set(a.find_all_next()).intersection(b.find_all_previous())\n",
    "    text = ''.join([s.strip() for s in after_comm1 if s in before_comm2 and len(s)>1])\n",
    "    return text"
   ]
  },
  {
   "cell_type": "code",
   "execution_count": 10,
   "metadata": {
    "collapsed": true
   },
   "outputs": [],
   "source": [
    "def count_trigger(text, kwd):\n",
    "    return kwd in text.lower()"
   ]
  },
  {
   "cell_type": "code",
   "execution_count": 11,
   "metadata": {
    "collapsed": true
   },
   "outputs": [],
   "source": [
    "year_range = range(2003, 2018)\n",
    "month_range = range(1, 13)"
   ]
  },
  {
   "cell_type": "code",
   "execution_count": 12,
   "metadata": {
    "collapsed": true
   },
   "outputs": [],
   "source": [
    "kwd = 'python'"
   ]
  },
  {
   "cell_type": "code",
   "execution_count": null,
   "metadata": {
    "collapsed": true
   },
   "outputs": [],
   "source": [
    "data = np.zeros((len(year_range), len(month_range)))\n",
    "for i, yr in tqdm(enumerate(year_range), desc='Loop over years'):\n",
    "    for j, mon in tqdm(enumerate(month_range), desc='Loop over months'):\n",
    "        hrefs = get_msg_urls(yr, mon)\n",
    "        count = 0\n",
    "        for href in tqdm(hrefs, desc='Loop within a month'):\n",
    "            msg_url = MSG_URL_MASK.format(yr=yr, mon=mon, msg_href=href)\n",
    "            req = requests.get(msg_url)\n",
    "            if req.status_code == 200:\n",
    "                soup = bs4.BeautifulSoup(req.content, PARSER)\n",
    "                try:\n",
    "                    txt = extract_text_between_comments(soup, start, end)\n",
    "                    if count_trigger(txt, kwd):\n",
    "                        count += 1\n",
    "                except:\n",
    "                    TQDM.write('WARNING!')\n",
    "                    txt = ''\n",
    "            data[i, j] = count"
   ]
  },
  {
   "cell_type": "code",
   "execution_count": 57,
   "metadata": {},
   "outputs": [],
   "source": [
    "data[-1, -4:] = np.nan\n",
    "data = np.ma.masked_invalid(data)\n",
    "\n",
    "arr = xr.DataArray(data,\n",
    "                   coords={'month': [i for i in month_range],\n",
    "                           'year': year_range},\n",
    "                   dims=('year', 'month'))"
   ]
  },
  {
   "cell_type": "code",
   "execution_count": 54,
   "metadata": {},
   "outputs": [
    {
     "data": {
      "text/plain": [
       "<matplotlib.collections.QuadMesh at 0x7f54641f2898>"
      ]
     },
     "execution_count": 54,
     "metadata": {},
     "output_type": "execute_result"
    },
    {
     "data": {
      "image/png": "[encoded data removed]",
      "text/plain": [
       "<matplotlib.figure.Figure at 0x7f546443f780>"
      ]
     },
     "metadata": {},
     "output_type": "display_data"
    }
   ],
   "source": [
    "arr.plot.pcolormesh()"
   ]
  },
  {
   "cell_type": "code",
   "execution_count": 61,
   "metadata": {
    "scrolled": true
   },
   "outputs": [
    {
     "data": {
      "text/plain": [
       "[<matplotlib.lines.Line2D at 0x7f545f886f60>]"
      ]
     },
     "execution_count": 61,
     "metadata": {},
     "output_type": "execute_result"
    },
    {
     "data": {
      "image/png": "[encoded data removed]",
      "text/plain": [
       "<matplotlib.figure.Figure at 0x7f545f924320>"
      ]
     },
     "metadata": {},
     "output_type": "display_data"
    }
   ],
   "source": [
    "(arr.sum(axis=1) / (~data.mask).sum(axis=1)).plot()"
   ]
  },
  {
   "cell_type": "code",
   "execution_count": null,
   "metadata": {
    "collapsed": true
   },
   "outputs": [],
   "source": []
  }
 ],
 "metadata": {
  "kernelspec": {
   "display_name": "Python [conda env:datasci]",
   "language": "python",
   "name": "conda-env-datasci-py"
  },
  "language_info": {
   "codemirror_mode": {
    "name": "ipython",
    "version": 3
   },
   "file_extension": ".py",
   "mimetype": "text/x-python",
   "name": "python",
   "nbconvert_exporter": "python",
   "pygments_lexer": "ipython3",
   "version": "3.6.2"
  }
 },
 "nbformat": 4,
 "nbformat_minor": 2
}
