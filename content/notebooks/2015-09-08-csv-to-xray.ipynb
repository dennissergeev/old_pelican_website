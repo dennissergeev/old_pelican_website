{
 "cells": [
  {
   "cell_type": "code",
   "execution_count": 1,
   "metadata": {
    "collapsed": true
   },
   "outputs": [],
   "source": [
    "name = \"2015-09-08-csv-to-xray\"\n",
    "title = \"Exercise in converting a CSV file to NetCDF using xray\"\n",
    "tags = \"python, data formats\""
   ]
  },
  {
   "cell_type": "code",
   "execution_count": 2,
   "metadata": {
    "collapsed": false
   },
   "outputs": [],
   "source": [
    "from nb_tools import connect_notebook_to_post\n",
    "from IPython.core.display import HTML\n",
    "\n",
    "html_foot = connect_notebook_to_post(name, title, tags)"
   ]
  },
  {
   "cell_type": "markdown",
   "metadata": {},
   "source": [
    "The story begins with a text file that I got from supervisor. That file contained many lines (time dimension) and many columns (variables) of numeric data that were the result of postprocessing of [ACCACIA](http://arcticaccacia.wordpress.com/) aircraft measurements. The file itself didn't contain any metadata, but it came with a matlab script, which loads the data and has comments to each column, e.g.:"
   ]
  },
  {
   "cell_type": "markdown",
   "metadata": {},
   "source": [
    "`...`\n",
    "\n",
    "`flux_data = load(file_name);`\n",
    "\n",
    "`...`\n",
    "\n",
    "`pressure    = flux_data(:,11);      % Air pressure (hPa)`\n",
    "\n",
    "`wind_speed  = flux_data(:,12);      % Horisontal wind speed (m s-1)`\n",
    "\n",
    "`wind_dir    = flux_data(:,13);      % Wind direction (deg)`\n",
    "\n",
    "`...`"
   ]
  },
  {
   "cell_type": "markdown",
   "metadata": {},
   "source": [
    "Converting this script to Python was pretty trivial, and I had used this interface for some tim. It was already more convenient to use than the original matlab: once the script was imported, all the variables could be accessed as its keys:"
   ]
  },
  {
   "cell_type": "markdown",
   "metadata": {
    "collapsed": true
   },
   "source": [
    "`import read_flux_data as flx`\n",
    "\n",
    "`print(flx.wind_speed) # 1D array of wind speed values`"
   ]
  },
  {
   "cell_type": "markdown",
   "metadata": {},
   "source": [
    "But then I got tired of only the values being accessible, but not the description and units that resided in the comments inside the script. The obvious way to was to convert two files: data and reading script into a NetCDF file. Plus, the `xray` package had been gaining popularity. So below is my little exercise in data I/O using the modern NetCDF handler."
   ]
  },
  {
   "cell_type": "markdown",
   "metadata": {},
   "source": [
    "To begin with, I load necessary modules"
   ]
  },
  {
   "cell_type": "code",
   "execution_count": 3,
   "metadata": {
    "collapsed": true
   },
   "outputs": [],
   "source": [
    "from collections import OrderedDict\n",
    "import numpy as np\n",
    "import os\n",
    "import pandas as pd\n",
    "import xray"
   ]
  },
  {
   "cell_type": "markdown",
   "metadata": {},
   "source": [
    "Instead of `numpy.genfromtxt()` as my original Python script did I use a `pandas` function to read the .csv file. TIL the `read_csv` function has an awesome feature to parse date-time strings automatically..."
   ]
  },
  {
   "cell_type": "code",
   "execution_count": 4,
   "metadata": {
    "collapsed": false
   },
   "outputs": [],
   "source": [
    "flux_data = pd.read_csv('../data/flux_data.txt', delim_whitespace=True, parse_dates=[1], header=None)"
   ]
  },
  {
   "cell_type": "markdown",
   "metadata": {},
   "source": [
    "Then, being a lazy bastard I am, I just copied the contents of my Python script and literally wrapped them with necessary syntax to divide data input and the comments, organising all this in an `OrderedDict` of dictionaries. Useful thing is this dictionary class..."
   ]
  },
  {
   "cell_type": "code",
   "execution_count": 5,
   "metadata": {
    "collapsed": false
   },
   "outputs": [],
   "source": [
    "values_and_names = OrderedDict([\n",
    "('time         ' , dict(data=flux_data[1 ].values, long_name='Time')),\n",
    "('BXXX         ' , dict(data=flux_data[2 ].values, long_name='Mission identifier')),\n",
    "('lat          ' , dict(data=flux_data[3 ].values, long_name='Latitude (deg)')),\n",
    "('lon          ' , dict(data=flux_data[4 ].values, long_name='Longitude (deg)')),\n",
    "('flag         ' , dict(data=flux_data[5 ].values, long_name='1: sea, 2: MIZ/ice')),\n",
    "('dist         ' , dict(data=flux_data[6 ].values, long_name='Length of run (km)')),\n",
    "('altitude     ' , dict(data=flux_data[7 ].values, long_name='Radar altitude (m)')),\n",
    "('altitude_std ' , dict(data=flux_data[8 ].values, long_name='Stdev radar altitude (m)')),\n",
    "('heading      ' , dict(data=flux_data[9 ].values, long_name='Heading (deg)')),\n",
    "('pressure     ' , dict(data=flux_data[10].values, long_name='Air pressure (hPa)')),\n",
    "('wind_speed   ' , dict(data=flux_data[11].values, long_name='Horisontal wind speed (m s-1)')),\n",
    "('wind_dir     ' , dict(data=flux_data[12].values, long_name='Wind direction (deg)')),\n",
    "('vert_wind    ' , dict(data=flux_data[13].values, long_name='Vertical wind velocity (m s-1)')),\n",
    "('temp         ' , dict(data=flux_data[14].values, long_name='Air temperature (K)')),\n",
    "('temp_dew     ' , dict(data=flux_data[15].values, long_name='Dew point (K)')),\n",
    "('q            ' , dict(data=flux_data[16].values, long_name='Air specific humidity (g/kg)')),\n",
    "('theta        ' , dict(data=flux_data[17].values, long_name='Pot. temp., 1.order approximation: theta = T+gamma.z  (K)  ')),\n",
    "('theta_v      ' , dict(data=flux_data[18].values, long_name='Virtual pot. temperature (K)')),\n",
    "('rho          ' , dict(data=flux_data[19].values, long_name='Density (kg m-3)')),\n",
    "('mslp         ' , dict(data=flux_data[20].values, long_name='Mean sea level pressure')),\n",
    "('temp_sfc     ' , dict(data=flux_data[21].values, long_name='Surface temperature (Upwell. brightn. temp.) (K)')),\n",
    "('q_sfc        ' , dict(data=flux_data[22].values, long_name='Surface air specific humidity (g kg-1)')),\n",
    "('sw_up        ' , dict(data=flux_data[23].values, long_name='Short wave upward (W m-2) ')),\n",
    "('sw_down      ' , dict(data=flux_data[24].values, long_name='Short wave downward (W m-2)')),\n",
    "('lw_up        ' , dict(data=flux_data[25].values, long_name='Long wave upward (W m-2) ')),\n",
    "('lw_down      ' , dict(data=flux_data[26].values, long_name='Long wave downward (W m-2) ')),\n",
    "('u_10m        ' , dict(data=flux_data[27].values, long_name='Wind speed adjusted to 10 m (m s-1)')),\n",
    "('t_2m         ' , dict(data=flux_data[28].values, long_name='Temperature adjusted to 2 m (K)')),\n",
    "('q_2m         ' , dict(data=flux_data[29].values, long_name='Specific humidity adjusted to 2 m (g kg-1)')),\n",
    "('rh_2m        ' , dict(data=flux_data[30].values, long_name='Relative humidity at 2 m (%)')),\n",
    "('u_10N        ' , dict(data=flux_data[31].values, long_name='10-m neutral wind speed (m s-1)')),\n",
    "('L            ' , dict(data=flux_data[32].values, long_name='Monin-Obukhov length (m)')),\n",
    "('tau          ' , dict(data=flux_data[33].values, long_name='Wind stress (N m-2)')),\n",
    "('ustar        ' , dict(data=flux_data[34].values, long_name='Friction velocity (m s-1)')),\n",
    "('z0           ' , dict(data=flux_data[35].values, long_name='Surface roughness length (m)')),\n",
    "('Cdn          ' , dict(data=flux_data[36].values, long_name='10-m neutral drag coefficient')),\n",
    "('SH           ' , dict(data=flux_data[37].values, long_name='Sensible heat flux (W m-2)')),\n",
    "('thetastar    ' , dict(data=flux_data[38].values, long_name='Friction potential temperature (K)')),\n",
    "('tstar        ' , dict(data=flux_data[39].values, long_name='Friction temperature (K)')),\n",
    "('z0_t         ' , dict(data=flux_data[40].values, long_name='Surface roughness lenght wrt heat based on theta (m)')),\n",
    "('Chn          ' , dict(data=flux_data[41].values, long_name='10-m neutral heat exchange coefficient ')),\n",
    "('LH           ' , dict(data=flux_data[42].values, long_name='Latent heat flux (W m-2)')),\n",
    "('qstar        ' , dict(data=flux_data[43].values, long_name='Friction moisture (g kg-1)')),\n",
    "('z0_q         ' , dict(data=flux_data[44].values, long_name='Surface roughness lenght wrt moisture (m)')),\n",
    "('Cen          ' , dict(data=flux_data[45].values, long_name='10-m neutral moisture exchange coefficient')),\n",
    "('tau_bulk     ' , dict(data=flux_data[46].values, long_name='[Smith, 1988] wind stress (N m-2)')),\n",
    "('SH_bulk      ' , dict(data=flux_data[47].values, long_name='[Smith, 1988] sensible heat flux (W m-2)')),\n",
    "('LH_bulk      ' , dict(data=flux_data[48].values, long_name='[Smith, 1988] latent heat flux (W m-2)')),\n",
    "('u_10N_coare  ' , dict(data=flux_data[49].values, long_name='Coare3.0: 10-m neutral wind speed (m s-1)')),\n",
    "('u_10m_coare  ' , dict(data=flux_data[50].values, long_name='Coare3.0: 10-m wind speed (m s-1)')),\n",
    "('t_2m_coare   ' , dict(data=flux_data[51].values, long_name='Coare3.0: 2-m temperature (K)')),\n",
    "('q_2m_coare   ' , dict(data=flux_data[52].values, long_name='Coare3.0: 2-m specific humidity (g kg-1)')),\n",
    "('rh_2m_coare  ' , dict(data=flux_data[53].values, long_name='Coare3.0: 2-m relative humidity (%)')),\n",
    "('tau_coare    ' , dict(data=flux_data[54].values, long_name='Coare3.0: wind stress (W m-2)')),\n",
    "('z0_coare     ' , dict(data=flux_data[55].values, long_name='Coare3.0: surface roughness length (m)')),\n",
    "('Cdn_coare    ' , dict(data=flux_data[56].values, long_name='Coare3.0: 10-m neutral drag coefficient')),\n",
    "('SH_coare     ' , dict(data=flux_data[57].values, long_name='Coare3.0: sensible heat flux (W m-2)')),\n",
    "('z0_t_coare   ' , dict(data=flux_data[58].values, long_name='Coare3.0: surface roughness length wrt heat (m)')),\n",
    "('Chn_coare    ' , dict(data=flux_data[59].values, long_name='Coare3.0: 10-m neutral heat exchange coefficient')),\n",
    "('LH_coare     ' , dict(data=flux_data[60].values, long_name='Coare3.0: latent heat flux (W m-2)')),\n",
    "('z0_q_coare   ' , dict(data=flux_data[61].values, long_name='Coare3.0: surface roughness length wrt moisture (m)')),\n",
    "('Cen_coare    ' , dict(data=flux_data[62].values, long_name='Coare3.0: 10-m neutral moisture exchange coefficient')),\n",
    "('tau_bulk_gfd ' , dict(data=flux_data[63].values, long_name='[Smith, 1988] w/GFD coeffs: Cdn = 2.04e-03')),\n",
    "('SH_bulk_gfd  ' , dict(data=flux_data[64].values, long_name='[Smith, 1988] Chn = 1.63e-03')),\n",
    "('LH_bulk_gfd  ' , dict(data=flux_data[65].values, long_name='[Smith, 1988] Cen = 1.57e-03')),\n",
    "('TKE          ' , dict(data=flux_data[66].values, long_name='turbulence kinetic energy (m+2 s-2)')),\n",
    "('u_10N_err    ' , dict(data=flux_data[67].values, long_name='error on 10-m neutral wind speed (m s-1)')),\n",
    "('Cdn_err      ' , dict(data=flux_data[68].values, long_name='error on 10-m neutral drag coefficient')),\n",
    "('d_theta      ' , dict(data=flux_data[69].values, long_name='theta difference (theta - temp_sfc) (K)')),\n",
    "('d_theta_err  ' , dict(data=flux_data[70].values, long_name='error on theta difference (K)')),\n",
    "('Chn_err      ' , dict(data=flux_data[71].values, long_name='error on 10-m neutral heat exchange coefficient')),\n",
    "('d_q          ' , dict(data=flux_data[72].values, long_name='specific humidity difference (q - q_sfc) (g kg-1)')),\n",
    "('d_q_err      ' , dict(data=flux_data[73].values, long_name='error on specific humidity difference (g kg-1)')),\n",
    "('Cen_err      ' , dict(data=flux_data[74].values, long_name='error on 10-m neutral moisture exchange coefficient')),\n",
    "('u_d_theta    ' , dict(data=flux_data[75].values, long_name='10-m neutral wind speed x theta difference (m s-1 K)')),\n",
    "('u_d_theta_err' , dict(data=flux_data[76].values, long_name='error on 10-m neutral wind speed x theta difference (m s-1 K)')),\n",
    "('u_d_q        ' , dict(data=flux_data[77].values, long_name='10-m neutral wind speed x specific humidity difference (m s-1 g kg-1)')),\n",
    "('u_d_q_err    ' , dict(data=flux_data[78].values, long_name='error on 10-m neutral wind speed x specific humidity difference (m s-1 g kg-1)'))\n",
    "])"
   ]
  },
  {
   "cell_type": "markdown",
   "metadata": {},
   "source": [
    "Since I was even lazy to put a quote after each variable name and just added a column of quotes in vim editor, I had to remove white spaces from the dictionary keys."
   ]
  },
  {
   "cell_type": "code",
   "execution_count": 6,
   "metadata": {
    "collapsed": false
   },
   "outputs": [],
   "source": [
    "values_and_names = OrderedDict((k.split()[0], v) for k, v in values_and_names.viewitems())"
   ]
  },
  {
   "cell_type": "markdown",
   "metadata": {},
   "source": [
    "The next step was to parse the comments inherited from the original matlab script. Looping over the dictionary, I use few simple tricks to get a string inside parenthesis at the end of each `long_name` string. The obtained string I then assign to a `unit` key in the corresponding dictionary. Note I also expand 'deg' to 'degrees' just in case I want to transform it later to [`iris.units.Unit()`](http://scitools.org.uk/iris/docs/latest/iris/iris/unit.html) object later (which accepts only 'degrees' as the name for degrees)."
   ]
  },
  {
   "cell_type": "code",
   "execution_count": 7,
   "metadata": {
    "collapsed": false
   },
   "outputs": [],
   "source": [
    "for i in values_and_names:\n",
    "    s = values_and_names[i]['long_name']\n",
    "    ibeg = s[::-1].find(\")\")\n",
    "    ibeg = ibeg+1 if ibeg>=0 else -1\n",
    "    iend = s[::-1].find(\"(\")\n",
    "    unit_str = s[::-1][ibeg:iend][::-1]\n",
    "    if unit_str == 'deg':\n",
    "        unit_str = 'degrees'\n",
    "    values_and_names[i]['units'] = unit_str\n",
    "    values_and_names[i]['long_name'] = s[:len(s)-iend-1]"
   ]
  },
  {
   "cell_type": "markdown",
   "metadata": {},
   "source": [
    "With the help of `xray` package documentation, I rearranged the dictionary into another dictionary of tuples."
   ]
  },
  {
   "cell_type": "code",
   "execution_count": 8,
   "metadata": {
    "collapsed": false
   },
   "outputs": [],
   "source": [
    "variables = dict()\n",
    "for i in values_and_names:\n",
    "    if i != 'time':\n",
    "        variables[i] = ('time', \n",
    "                    values_and_names[i]['data'], \n",
    "                    dict(units=values_and_names[i]['units'], long_name=values_and_names[i]['long_name']))"
   ]
  },
  {
   "cell_type": "markdown",
   "metadata": {},
   "source": [
    "Why did I do that? Now the data and metadata is packed in a structure that is digestible for [`xray.Dataset`](http://xray.readthedocs.org/en/stable/data-structures.html#creating-a-dataset). The only coordinate is time, and is defined by the same keyword. The great thing is that `pandas` parsed the time strings for me and already converted them to a `datetime64` object."
   ]
  },
  {
   "cell_type": "code",
   "execution_count": 9,
   "metadata": {
    "collapsed": false
   },
   "outputs": [],
   "source": [
    "ds = xray.Dataset(variables=variables,\n",
    "             coords={'time': ('time', values_and_names['time']['data'])})"
   ]
  },
  {
   "cell_type": "markdown",
   "metadata": {},
   "source": [
    "And voil&agrave;, we have everything packed in the NetCDF file."
   ]
  },
  {
   "cell_type": "code",
   "execution_count": 10,
   "metadata": {
    "collapsed": false
   },
   "outputs": [],
   "source": [
    "ds.to_netcdf('flux_data.nc')"
   ]
  },
  {
   "cell_type": "code",
   "execution_count": 11,
   "metadata": {
    "collapsed": false
   },
   "outputs": [
    {
     "data": {
      "text/html": [
       "\n",
       "    <small>\n",
       "    <p> This post was written as an IPython (Jupyter) notebook. You can view or download it using\n",
       "    <a href=\"http://nbviewer.ipython.org/github/dennissergeev/dennissergeev.github.io/blob/src/content/notebooks/2015-09-08-csv-to-xray.ipynb\">nbviewer</a>.</p>\n",
       "    "
      ],
      "text/plain": [
       "<IPython.core.display.HTML object>"
      ]
     },
     "execution_count": 11,
     "metadata": {},
     "output_type": "execute_result"
    }
   ],
   "source": [
    "HTML(html_foot)"
   ]
  }
 ],
 "metadata": {
  "kernelspec": {
   "display_name": "Python 2",
   "language": "python",
   "name": "python2"
  },
  "language_info": {
   "codemirror_mode": {
    "name": "ipython",
    "version": 2
   },
   "file_extension": ".py",
   "mimetype": "text/x-python",
   "name": "python",
   "nbconvert_exporter": "python",
   "pygments_lexer": "ipython2",
   "version": "2.7.10"
  }
 },
 "nbformat": 4,
 "nbformat_minor": 0
}
